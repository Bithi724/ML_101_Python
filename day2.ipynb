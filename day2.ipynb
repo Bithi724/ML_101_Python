{
 "cells": [
  {
   "cell_type": "markdown",
   "id": "6386c4b1",
   "metadata": {},
   "source": [
    "## session 2"
   ]
  },
  {
   "cell_type": "code",
   "execution_count": null,
   "id": "07fda6b5",
   "metadata": {},
   "outputs": [
    {
     "name": "stdout",
     "output_type": "stream",
     "text": [
      "12345\n",
      "1/2/3/4/5\n"
     ]
    }
   ],
   "source": [
    "print (1,2,3,4,5, sep='')\n",
    "print(1,2,3,4,5,sep='/')\n"
   ]
  },
  {
   "cell_type": "code",
   "execution_count": null,
   "id": "84bd5c37",
   "metadata": {},
   "outputs": [
    {
     "name": "stdout",
     "output_type": "stream",
     "text": [
      "Hello, bithi!\n"
     ]
    }
   ],
   "source": [
    "def name_input(r):\n",
    "    \"\"\"_summary_\n",
    "\n",
    "    Args:\n",
    "        r (_type_): _description_\n",
    "    \"\"\"\n",
    "    \n",
    "    \n",
    "    name = input (\"Enter your name:\")\n",
    "    print(f\"Hello, {name}!\")\n",
    "    \n",
    "name_input()"
   ]
  },
  {
   "cell_type": "code",
   "execution_count": 13,
   "id": "275908b9",
   "metadata": {},
   "outputs": [
    {
     "name": "stdout",
     "output_type": "stream",
     "text": [
      "hello  bithi\n"
     ]
    }
   ],
   "source": [
    "def name_input():\n",
    "    name=input (\"enter your name\")\n",
    "    print(\"hello  \"  + name)\n",
    "name_input()"
   ]
  },
  {
   "cell_type": "code",
   "execution_count": 2,
   "id": "5dea4d69",
   "metadata": {},
   "outputs": [
    {
     "name": "stdout",
     "output_type": "stream",
     "text": [
      "x is neither 3 nor 5\n"
     ]
    }
   ],
   "source": [
    "x= int(input(\"Enter  a number\"))\n",
    "if x==3:\n",
    "    print(\"x is 3\")\n",
    "elif (x==5):\n",
    "    print(\"x is 5\")\n",
    "else:\n",
    "    print(\"x is neither 3 nor 5\")"
   ]
  },
  {
   "cell_type": "code",
   "execution_count": 3,
   "id": "3affc32b",
   "metadata": {},
   "outputs": [
    {
     "name": "stdout",
     "output_type": "stream",
     "text": [
      "X is not 5\n"
     ]
    }
   ],
   "source": [
    "if x != 5: # if x is not 3\n",
    "    print(\"X is not 5\")"
   ]
  },
  {
   "cell_type": "code",
   "execution_count": 4,
   "id": "3a2a6358",
   "metadata": {},
   "outputs": [
    {
     "name": "stdout",
     "output_type": "stream",
     "text": [
      "X is between 1 and 5\n"
     ]
    }
   ],
   "source": [
    "if (x >= 1 and x <= 5) or x==7: # if x is between 1 and 5\n",
    "    print(\"X is between 1 and 5\")"
   ]
  },
  {
   "cell_type": "code",
   "execution_count": 7,
   "id": "30dbaa2c",
   "metadata": {},
   "outputs": [
    {
     "name": "stdout",
     "output_type": "stream",
     "text": [
      "you got it\n"
     ]
    }
   ],
   "source": [
    "num=6\n",
    "guess= int(input(\"Enter your number\"))\n",
    "if guess == num:\n",
    "    print(\"you got it\")\n",
    "else:\n",
    "    print(\"you missed it\")"
   ]
  },
  {
   "cell_type": "code",
   "execution_count": null,
   "id": "52923cb4",
   "metadata": {},
   "outputs": [],
   "source": []
  },
  {
   "cell_type": "code",
   "execution_count": 10,
   "id": "c632dc54",
   "metadata": {},
   "outputs": [
    {
     "name": "stdout",
     "output_type": "stream",
     "text": [
      "your  total bill is $45.00\n"
     ]
    }
   ],
   "source": [
    "entry= input (\"Do you have account ?(yes/no):\")\n",
    "entry=entry.lower ()\n",
    "if entry ==\"yes\":\n",
    "    print(\"your  total bill is $45.00\")\n",
    "elif entry== \"no\":\n",
    "    print(\"your total bill is $50.00\")\n",
    "else:\n",
    "    print(\"Invalid entry\")"
   ]
  },
  {
   "cell_type": "code",
   "execution_count": null,
   "id": "0544b00e",
   "metadata": {},
   "outputs": [
    {
     "name": "stdout",
     "output_type": "stream",
     "text": [
      "100 90 80 70 60 50 40 30 20 10 "
     ]
    }
   ],
   "source": [
    "for i in range(100,1,-5):\n",
    "    if(i%2==0) :\n",
    "        print(i, end=\" \")\n",
    "    "
   ]
  },
  {
   "cell_type": "code",
   "execution_count": 1,
   "id": "f38a9099",
   "metadata": {},
   "outputs": [
    {
     "name": "stdout",
     "output_type": "stream",
     "text": [
      "5\n",
      "1\n",
      "2\n",
      "0\n",
      "2\n"
     ]
    }
   ],
   "source": [
    "name= \"Umme Kulsum Bithi\"\n",
    "print(name.count('a')+name.count('e')+name.count('i')+name.count('o')+name.count('u'))\n",
    "print(name.count('e'))\n",
    "print(name.count('i'))\n",
    "print(name.count('o'))\n",
    "print(name.count('u'))\n",
    "\n"
   ]
  },
  {
   "cell_type": "code",
   "execution_count": null,
   "id": "b5406b4a",
   "metadata": {},
   "outputs": [
    {
     "name": "stdout",
     "output_type": "stream",
     "text": [
      "Too high\n",
      "Too high\n"
     ]
    }
   ],
   "source": [
    "from random import randint \n",
    "num = randint (1,100)\n",
    "cnt=0\n",
    "\n",
    "\n",
    "while True:\n",
    "   \n",
    "    guess = int(input(\"Enter the number\"))\n",
    "    cnt +=1\n",
    "    if ( guess == num):\n",
    "        print(f\"you are right, on {cnt}th try\")\n",
    "        break\n",
    "    elif( guess>num):\n",
    "        print(\"Too high\")\n",
    "    elif(guess<num):\n",
    "        print(\"too low\")\n",
    "\n",
    "\n",
    "  \n"
   ]
  },
  {
   "cell_type": "code",
   "execution_count": 3,
   "id": "e21ab850",
   "metadata": {},
   "outputs": [],
   "source": [
    "numbers = [1,2,3,45,76,89,56,34]\n"
   ]
  },
  {
   "cell_type": "code",
   "execution_count": 2,
   "id": "b7d57046",
   "metadata": {},
   "outputs": [
    {
     "data": {
      "text/plain": [
       "[34, 56, 89, 76, 45, 3, 2, 1]"
      ]
     },
     "execution_count": 2,
     "metadata": {},
     "output_type": "execute_result"
    }
   ],
   "source": [
    "numbers[::-1]"
   ]
  },
  {
   "cell_type": "code",
   "execution_count": 3,
   "id": "9d237589",
   "metadata": {},
   "outputs": [
    {
     "name": "stdout",
     "output_type": "stream",
     "text": [
      "0 1\n",
      "1 2\n",
      "2 3\n",
      "3 45\n",
      "4 76\n",
      "5 89\n",
      "6 56\n",
      "7 34\n"
     ]
    }
   ],
   "source": [
    "for index,number in enumerate(numbers):\n",
    "    print(index,number)"
   ]
  },
  {
   "cell_type": "code",
   "execution_count": 4,
   "id": "568ecc1c",
   "metadata": {},
   "outputs": [
    {
     "name": "stdout",
     "output_type": "stream",
     "text": [
      "[0, 1, 4, 9, 16, 25, 36, 49, 64, 81]\n"
     ]
    }
   ],
   "source": [
    "lst=[]\n",
    "for x in range(10):\n",
    "    lst.append(x**2)\n",
    "\n",
    "print(lst)"
   ]
  },
  {
   "cell_type": "code",
   "execution_count": 5,
   "id": "91553cf4",
   "metadata": {},
   "outputs": [
    {
     "data": {
      "text/plain": [
       "[0, 1, 4, 9, 16, 25, 36, 49, 64, 81]"
      ]
     },
     "execution_count": 5,
     "metadata": {},
     "output_type": "execute_result"
    }
   ],
   "source": [
    "[x**2 for x in range(10)]"
   ]
  },
  {
   "cell_type": "code",
   "execution_count": 6,
   "id": "edd3cf8f",
   "metadata": {},
   "outputs": [
    {
     "data": {
      "text/plain": [
       "[5, 6, 7, 8, 9, 10, 11, 12, 13, 14]"
      ]
     },
     "execution_count": 6,
     "metadata": {},
     "output_type": "execute_result"
    }
   ],
   "source": [
    "[x+5 for x in range(10)]"
   ]
  },
  {
   "cell_type": "code",
   "execution_count": 10,
   "id": "8dfa8118",
   "metadata": {},
   "outputs": [
    {
     "data": {
      "text/plain": [
       "[6, 8, 10, 12, 14]"
      ]
     },
     "execution_count": 10,
     "metadata": {},
     "output_type": "execute_result"
    }
   ],
   "source": [
    "[x+5 for x in range( 1,10,2)]"
   ]
  },
  {
   "cell_type": "code",
   "execution_count": 1,
   "id": "e3da909d",
   "metadata": {},
   "outputs": [
    {
     "name": "stdout",
     "output_type": "stream",
     "text": [
      "[[1, 'a'], [1, 'b'], [1, 'c'], [1, 'd'], [2, 'a'], [2, 'b'], [2, 'c'], [2, 'd'], [3, 'a'], [3, 'b'], [3, 'c'], [3, 'd'], [4, 'a'], [4, 'b'], [4, 'c'], [4, 'd']]\n"
     ]
    }
   ],
   "source": [
    "lst1=[1,2,3,4]\n",
    "lst2=['a','b','c','d']\n",
    "\n",
    "pair=[[i,j] for i in lst1 for j in lst2]\n",
    "\n",
    "print(pair)\n"
   ]
  },
  {
   "cell_type": "code",
   "execution_count": null,
   "id": "2600cac7",
   "metadata": {},
   "outputs": [],
   "source": []
  },
  {
   "cell_type": "code",
   "execution_count": 18,
   "id": "3f5add48",
   "metadata": {},
   "outputs": [
    {
     "name": "stdout",
     "output_type": "stream",
     "text": [
      "[50, 'No power up', 200, 'No power up', 0, 150]\n"
     ]
    }
   ],
   "source": [
    "levels = [50 ,0 ,0 ,200 , 0 , 150]\n",
    "levels.insert(2,\"No power up\")\n",
    "levels.remove(0)\n",
    "\n",
    "levels.insert(4,\"No power up\")\n",
    "levels.remove(0)\n",
    "\n",
    "print(levels)"
   ]
  },
  {
   "cell_type": "code",
   "execution_count": 19,
   "id": "e684248c",
   "metadata": {},
   "outputs": [
    {
     "name": "stdout",
     "output_type": "stream",
     "text": [
      "50,no power up,no power up,200,no power up,150,"
     ]
    }
   ],
   "source": [
    "levels = [50 ,0 ,0 ,200 , 0 , 150]\n",
    "for i in levels :\n",
    "    if i==0:\n",
    "        i=\"no power up\"\n",
    "    print(i,end=\",\")"
   ]
  },
  {
   "cell_type": "code",
   "execution_count": 20,
   "id": "3e93044b",
   "metadata": {},
   "outputs": [
    {
     "data": {
      "text/plain": [
       "[50, 'No power up ', 'No power up ', 200, 'No power up ', 150]"
      ]
     },
     "execution_count": 20,
     "metadata": {},
     "output_type": "execute_result"
    }
   ],
   "source": [
    "[\"No power up \"  if i==0 else i for i in levels  ]"
   ]
  },
  {
   "cell_type": "code",
   "execution_count": 24,
   "id": "e5f3c2c1",
   "metadata": {},
   "outputs": [
    {
     "name": "stdout",
     "output_type": "stream",
     "text": [
      "[2, 1, 0, 3]\n"
     ]
    }
   ],
   "source": [
    "import emoji\n",
    "messages = ['😊🎉', 'Hi there! 😊', 'No emojis here!', '🔥🔥😊']\n",
    "emoji_count= []\n",
    "for i in messages:\n",
    "    emoji_count.append(emoji.emoji_count(i))\n",
    "print(emoji_count)\n",
    "\n"
   ]
  },
  {
   "cell_type": "code",
   "execution_count": null,
   "id": "e495817f",
   "metadata": {},
   "outputs": [],
   "source": []
  },
  {
   "cell_type": "code",
   "execution_count": null,
   "id": "293d7a84",
   "metadata": {},
   "outputs": [],
   "source": []
  }
 ],
 "metadata": {
  "kernelspec": {
   "display_name": ".venv",
   "language": "python",
   "name": "python3"
  },
  "language_info": {
   "codemirror_mode": {
    "name": "ipython",
    "version": 3
   },
   "file_extension": ".py",
   "mimetype": "text/x-python",
   "name": "python",
   "nbconvert_exporter": "python",
   "pygments_lexer": "ipython3",
   "version": "3.12.10"
  }
 },
 "nbformat": 4,
 "nbformat_minor": 5
}
